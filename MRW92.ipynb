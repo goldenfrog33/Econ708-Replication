{
 "cells": [
  {
   "cell_type": "code",
   "execution_count": 1,
   "metadata": {},
   "outputs": [],
   "source": [
    "import pandas as pd\n",
    "import numpy as np\n",
    "import statsmodels.api as sm\n",
    "from statsmodels.iolib.summary2 import summary_col\n",
    "import matplotlib.pyplot as plt"
   ]
  },
  {
   "cell_type": "markdown",
   "metadata": {},
   "source": [
    "## Introduction\n",
    "The paper I am going to use for replication is `Mankiw, Romer and Weil (1992)`. This paper tried to analyze Solow growth model in an empirical way. I am going to replicate three main parts of this paper. First is the standard Solow model(Table I). Second is the augmented Solow model including `human capital`(Table II). The last is tests for the speed of convergence to steady state(Table III,V)."
   ]
  },
  {
   "cell_type": "markdown",
   "metadata": {},
   "source": [
    "### Data source\n",
    "Since the paper was published several years ago, there is no replication package and the orginal data cannot be accessed through online open data souce directly. I tried to use alternative way to construct the sample for analysis. Hence, the replication data sample has some differences from the orginal one. Both the replication and extension samples use the data from the following sources. The difference is the time period. Replication sample aligned with the paper's sample, which started from 1960 to 1985, while extension sample covered until 2019.\n",
    "\n",
    "Here are the data source:\n",
    "- Penn World Table(PWT) version 10.01(An extension of the orginal Summers and Hestion[1988] mentioned in the paper): https://www.rug.nl/ggdc/productivity/pwt/?lang=en\n",
    "- Population of working age (15-64) from World Bank: https://data.worldbank.org/indicator/SP.POP.1564.TO"
   ]
  },
  {
   "cell_type": "markdown",
   "metadata": {},
   "source": [
    "### Variables: description and constructing method\n",
    "The following is the detial information for the key variables in this replication project:\n",
    "- `lgdp60`: country's real GDP divided by total working-age population in 1960 and take log\n",
    "- `lgdp85`: country's real GDP divided by total working-age population in 1985 and take log\n",
    "- `lgdp19`: country's real GDP divided by total working-age population in 2019 and take log\n",
    "- `lgdpdiff`: `lgdp85`-`lgdp60` or `lgdp19`-`lgdp60`\n",
    "- `avg_popg`: use the total working-age population data to measure the growth of working-age poplation and take average by country during the period\n",
    "- `ls`: log of the share of investment in GDP. First, use the capital data in PWT to compute investment. $I=K_{t+1}-(1-\\delta)k_t $. Then, divide investment by real GDP. Lastly, take average by country and take log. Note: The authors didn't specify how they get the investment data in paper\n",
    "- `lschool`: use human capital index `hc` in PWT as a measurement for human capital level for each country. Take average by country and take log. Note: Due to the online data limitation, I didn't follow how the authors constructed this variable\n",
    "- `avg_delta`: use depreciation rate `delta` in PWT and take average by country\n",
    "- `avg_tfpg`: use TFP data `rtfpna` in PWT to measure the growth rate of TFP and take average by country\n",
    "- `lngd`: $ln(n+g+d)$ where n is the growth rate of working-age population, g is TFPG, d is depreciation rate. In replication sample, I followed the authors' assumption that g+d=0.05 Thus, `lngd` is `avg_popg`+0.05 and take log. In extension sample, I applied TFP and depreciation rate data from PWT, so `lngd` is `avg_popg`+`avg_tfpg`+`avg_delta` and take log\n",
    "- `ls-lngd`: literally, `ls`-`lngd`\n",
    "- `lschool-lngd`: literally. `lschool`-`lngd`"
   ]
  },
  {
   "cell_type": "markdown",
   "metadata": {},
   "source": [
    "## Data Cleaning"
   ]
  },
  {
   "cell_type": "code",
   "execution_count": 2,
   "metadata": {},
   "outputs": [],
   "source": [
    "#pull main data\n",
    "data = pd.read_excel('pwt1001.xlsx', sheet_name = 'Data')\n",
    "#keep data only after 1960\n",
    "data=data[data['year']>=1960]"
   ]
  },
  {
   "cell_type": "code",
   "execution_count": 3,
   "metadata": {},
   "outputs": [],
   "source": [
    "#pull working age pop\n",
    "workagepop=pd.read_csv('Working age pop.csv')\n",
    "workagepop.drop(columns=['Indicator Name','Indicator Code','Country Name'],inplace=True)\n",
    "workagepop=workagepop.melt(['Country Code'],var_name='year',value_name='wapop')\n",
    "workagepop.rename(columns={'Country Code':'countrycode'},inplace=True)\n",
    "workagepop['year']=workagepop['year'].astype(int)\n",
    "pri_data=pd.merge(data,workagepop,on=['countrycode','year'])"
   ]
  },
  {
   "cell_type": "markdown",
   "metadata": {},
   "source": [
    "### Variable of interest priliminary setting"
   ]
  },
  {
   "cell_type": "code",
   "execution_count": 4,
   "metadata": {},
   "outputs": [],
   "source": [
    "#dependent variable: real gdp per working-age person\n",
    "pri_data['rgdpwap']=(pri_data['rgdpna']*10**6)/(pri_data['wapop'])\n",
    "pri_data['gdpg']=pri_data.groupby('countrycode').rgdpwap.pct_change()\n",
    "#independent variable component: TFPG\n",
    "pri_data['tfpg'] = pri_data.groupby('countrycode').rtfpna.pct_change()\n",
    "\n",
    "#independent variable component: growth of th working-age population\n",
    "pri_data['popg'] = pri_data.groupby('countrycode').wapop.pct_change()\n",
    "\n",
    "#independent variable: share of investment in gdp\n",
    "pri_data['rnna_1']=pri_data.groupby('countrycode').rnna.shift(-1)\n",
    "pri_data['const']=1\n",
    "pri_data['investment']=pri_data['rnna_1']-(pri_data['const']-pri_data['delta'])*pri_data['rnna']\n",
    "pri_data['i_y']=(pri_data['investment']/pri_data['rgdpna'])"
   ]
  },
  {
   "cell_type": "markdown",
   "metadata": {},
   "source": [
    "### Make dataset for replication"
   ]
  },
  {
   "cell_type": "code",
   "execution_count": 5,
   "metadata": {},
   "outputs": [],
   "source": [
    "#year 1960-1985\n",
    "pri_data_1=pri_data[pri_data['year']<=1985]\n",
    "#construct a new datafrmame containing vairables for regression\n",
    "rep_data=pd.DataFrame({'countrycode':pri_data_1['countrycode'].unique()})"
   ]
  },
  {
   "cell_type": "code",
   "execution_count": 6,
   "metadata": {},
   "outputs": [],
   "source": [
    "#Add sample indicators\n",
    "non_oil=['DZA', 'AGO', 'BEN', 'BWA', 'BFA', 'BDI', 'CMR', 'CAF', 'TCD', 'COG', 'EGY', 'ETH', 'GHA', 'CIV', 'KEN', 'LBR', 'MDG', 'MWI', 'MLI', 'MRT', 'MUS', 'MAR', 'MOZ', 'NER', 'NGA', 'RWA', 'SEN', 'SLE', 'SOM', 'ZAF', 'SDN', 'TZA', 'TGO', 'TUN', 'UGA', 'COD', 'ZMB', 'ZWE', 'BGD', 'MMR', 'HKG', 'IND', 'ISR', 'JPN', 'JOR', 'KOR', 'MYS', 'NPL', 'PAK', 'PHL', 'SGP', 'LKA', 'SYR', 'THA', 'AUT', 'BEL', 'DNK', 'FIN', 'FRA', 'DEU', 'GRC', 'IRL', 'ITA', 'NLD', 'NOR', 'PRT', 'ESP', 'SWE', 'CHE', 'TUR', 'GBR', 'CAN', 'CRI', 'DOM', 'SLV', 'GTM', 'HTI', 'HND', 'JAM', 'MEX', 'NIC', 'PAN', 'TTO', 'USA', 'ARG', 'BOL', 'BRA', 'CHL', 'COL', 'ECU', 'PRY', 'PER', 'URY', 'VEN', 'AUS', 'IDN', 'NZL', 'PNG']\n",
    "intermediate=['DZA', 'BWA', 'CMR', 'ETH', 'CIV', 'KEN', 'MDG', 'MWI', 'MLI', 'MAR', 'NGA', 'SEN', 'ZAF', 'TZA', 'TUN', 'ZMB', 'ZWE', 'BGD', 'MMR', 'HKG', 'IND', 'ISR', 'JPN', 'JOR', 'KOR', 'MYS', 'PAK', 'PHL', 'SGP', 'LKA', 'SYR', 'THA', 'AUT', 'BEL', 'DNK', 'FIN', 'FRA', 'DEU', 'GRC', 'IRL', 'ITA', 'NLD', 'NOR', 'PRT', 'ESP', 'SWE', 'CHE', 'TUR', 'GBR', 'CAN', 'CRI', 'DOM', 'SLV', 'GTM', 'HTI', 'HND', 'JAM', 'MEX', 'NIC', 'PAN', 'TTO', 'USA', 'ARG', 'BOL', 'BRA', 'CHL', 'COL', 'ECU', 'PRY', 'PER', 'URY', 'VEN', 'AUS', 'IDN', 'NZL']\n",
    "#there is a difference in oecd countries now, but I use the same list as the authors'\n",
    "oecd=['JPN', 'AUT', 'BEL', 'DNK', 'FIN', 'FRA', 'DEU', 'GRC', 'IRL', 'ITA', 'NLD', 'NOR', 'PRT', 'ESP', 'SWE', 'CHE', 'TUR', 'GBR', 'CAN', 'USA', 'AUS', 'NZL']\n",
    "\n",
    "rep_data['n']=(rep_data['countrycode'].isin(non_oil)).astype(int)\n",
    "rep_data['i']=(rep_data['countrycode'].isin(intermediate)).astype(int)\n",
    "rep_data['o']=(rep_data['countrycode'].isin(oecd)).astype(int)"
   ]
  },
  {
   "cell_type": "code",
   "execution_count": 7,
   "metadata": {},
   "outputs": [],
   "source": [
    "#log gdp per working-age person 1960\n",
    "rep_data=pd.merge(rep_data,pri_data_1[pri_data_1['year']==1960][['countrycode','rgdpwap']],on='countrycode')\n",
    "rep_data['lgdp60']=np.log(rep_data['rgdpwap'])\n",
    "rep_data.drop('rgdpwap',axis=1,inplace=True)\n",
    "\n",
    "#log gdp per working-age person 1985\n",
    "rep_data=pd.merge(rep_data,pri_data_1[pri_data_1['year']==1985][['countrycode','rgdpwap']],on='countrycode')\n",
    "rep_data['lgdp85']=np.log(rep_data['rgdpwap'])\n",
    "rep_data.drop('rgdpwap',axis=1,inplace=True)\n",
    "\n",
    "#log difference gdp per working-age person 1960-1985\n",
    "rep_data['lgdpdiff']=rep_data['lgdp85']-rep_data['lgdp60']"
   ]
  },
  {
   "cell_type": "code",
   "execution_count": 8,
   "metadata": {},
   "outputs": [],
   "source": [
    "#average working-age populaiton growth\n",
    "pop=pri_data_1.groupby('countrycode')['popg'].mean().to_frame().reset_index()\n",
    "rep_data=pd.merge(rep_data,pop,on='countrycode').rename(columns={'popg':'avg_popg'})\n",
    "\n",
    "#average average share of investment in gdp and take log\n",
    "s=pri_data_1.groupby('countrycode')['i_y'].mean().to_frame().reset_index()\n",
    "rep_data=pd.merge(rep_data,s,on='countrycode')\n",
    "rep_data['ls']=np.log(rep_data['i_y'])\n",
    "rep_data.drop('i_y',axis=1,inplace=True)\n",
    "\n",
    "#average human capital index\n",
    "hc=pri_data_1.groupby('countrycode')['hc'].mean().to_frame().reset_index()\n",
    "rep_data=pd.merge(rep_data,hc,on='countrycode')\n",
    "rep_data['lschool']=np.log(rep_data['hc'])\n",
    "\n",
    "#construct log(n+g+delta) \n",
    "#here I use the assumption by the authors' \"g+delta=0.05\"\n",
    "rep_data['lngd']=np.log(rep_data['avg_popg']+0.05)\n",
    "\n",
    "#ls-lngd for restricted model\n",
    "rep_data['ls-lngd']=rep_data['ls']-rep_data['lngd']\n",
    "\n",
    "#lschool-lngd for restricted model\n",
    "rep_data['lschool-lngd']=rep_data['lschool']-rep_data['lngd']"
   ]
  },
  {
   "cell_type": "code",
   "execution_count": 9,
   "metadata": {},
   "outputs": [],
   "source": [
    "#variable for plot\n",
    "#average annual growth rate gdp per labor\n",
    "gdpg=pri_data_1.groupby('countrycode')['gdpg'].mean().to_frame().reset_index()\n",
    "rep_data=pd.merge(rep_data,gdpg,on='countrycode').rename(columns={'gdpg':'avg_gdpg'})"
   ]
  },
  {
   "cell_type": "markdown",
   "metadata": {},
   "source": [
    "### Make dataset for extension"
   ]
  },
  {
   "cell_type": "code",
   "execution_count": 10,
   "metadata": {},
   "outputs": [],
   "source": [
    "ext_data=pd.DataFrame({'countrycode':pri_data['countrycode'].unique()})"
   ]
  },
  {
   "cell_type": "code",
   "execution_count": 11,
   "metadata": {},
   "outputs": [],
   "source": [
    "#Add sample indicators\n",
    "ext_data['n']=(ext_data['countrycode'].isin(non_oil)).astype(int)\n",
    "ext_data['i']=(ext_data['countrycode'].isin(intermediate)).astype(int)\n",
    "ext_data['o']=(ext_data['countrycode'].isin(oecd)).astype(int)"
   ]
  },
  {
   "cell_type": "code",
   "execution_count": 12,
   "metadata": {},
   "outputs": [],
   "source": [
    "#log gdp per working-age person 1960\n",
    "ext_data=pd.merge(ext_data,pri_data[pri_data['year']==1960][['countrycode','rgdpwap']],on='countrycode')\n",
    "ext_data['lgdp60']=np.log(ext_data['rgdpwap'])\n",
    "ext_data.drop('rgdpwap',axis=1,inplace=True)\n",
    "\n",
    "#log gdp per working-age person 2019\n",
    "ext_data=pd.merge(ext_data,pri_data[pri_data['year']==2019][['countrycode','rgdpwap']],on='countrycode')\n",
    "ext_data['lgdp19']=np.log(ext_data['rgdpwap'])\n",
    "ext_data.drop('rgdpwap',axis=1,inplace=True)\n",
    "\n",
    "#log difference gdp per working-age person 1960-2019\n",
    "ext_data['lgdpdiff']=ext_data['lgdp19']-ext_data['lgdp60']"
   ]
  },
  {
   "cell_type": "code",
   "execution_count": 13,
   "metadata": {},
   "outputs": [],
   "source": [
    "#average working-age populaiton growth\n",
    "pop=pri_data.groupby('countrycode')['popg'].mean().to_frame().reset_index()\n",
    "ext_data=pd.merge(ext_data,pop,on='countrycode').rename(columns={'popg':'avg_popg'})\n",
    "\n",
    "#average tfpg\n",
    "tfpg=pri_data.groupby('countrycode')['tfpg'].mean().to_frame().reset_index()\n",
    "ext_data=pd.merge(ext_data,tfpg,on='countrycode').rename(columns={'tfpg':'avg_tfpg'})\n",
    "\n",
    "#average depreciation rate\n",
    "delta=pri_data.groupby('countrycode')['delta'].mean().to_frame().reset_index()\n",
    "ext_data=pd.merge(ext_data,delta,on='countrycode').rename(columns={'delta':'avg_delta'})\n",
    "\n",
    "#average average share of investment in gdp and take log\n",
    "s=pri_data.groupby('countrycode')['i_y'].mean().to_frame().reset_index()\n",
    "ext_data=pd.merge(ext_data,s,on='countrycode')\n",
    "ext_data['ls']=np.log(ext_data['i_y'])\n",
    "ext_data.drop('i_y',axis=1,inplace=True)\n",
    "\n",
    "#average human capital index\n",
    "hc=pri_data.groupby('countrycode')['hc'].mean().to_frame().reset_index()\n",
    "ext_data=pd.merge(ext_data,hc,on='countrycode')\n",
    "ext_data['lschool']=np.log(ext_data['hc'])\n",
    "\n",
    "#construct log(n+g+delta) \n",
    "ext_data['lngd']=np.log(ext_data['avg_popg']+ext_data['avg_tfpg']+ext_data['avg_delta'])\n",
    "\n",
    "#ls-lngd for restricted model\n",
    "ext_data['ls-lngd']=ext_data['ls']-ext_data['lngd']\n",
    "\n",
    "#lschool-lngd for restricted model\n",
    "ext_data['lschool-lngd']=ext_data['lschool']-ext_data['lngd']"
   ]
  },
  {
   "cell_type": "code",
   "execution_count": 14,
   "metadata": {},
   "outputs": [],
   "source": [
    "#variable for plot\n",
    "#average annual growth rate gdp per labor\n",
    "gdpg=pri_data.groupby('countrycode')['gdpg'].mean().to_frame().reset_index()\n",
    "ext_data=pd.merge(ext_data,gdpg,on='countrycode').rename(columns={'gdpg':'avg_gdpg'})"
   ]
  },
  {
   "cell_type": "markdown",
   "metadata": {},
   "source": [
    "Out of curiosity, I checked the average g+d with real data and it seems that the authors' assumption for g+d=0.05 is reasonable."
   ]
  },
  {
   "cell_type": "code",
   "execution_count": 15,
   "metadata": {},
   "outputs": [
    {
     "data": {
      "text/plain": [
       "0.04658899269165173"
      ]
     },
     "execution_count": 15,
     "metadata": {},
     "output_type": "execute_result"
    }
   ],
   "source": [
    "(ext_data['avg_tfpg']+ext_data['avg_delta']).mean()"
   ]
  },
  {
   "cell_type": "markdown",
   "metadata": {},
   "source": [
    "## Part I: Regression tables"
   ]
  },
  {
   "cell_type": "code",
   "execution_count": 16,
   "metadata": {},
   "outputs": [],
   "source": [
    "#make subsamples\n",
    "rep_data['const']=1\n",
    "rep_data_n=rep_data[rep_data['n']==1]\n",
    "rep_data_i=rep_data[rep_data['i']==1]\n",
    "rep_data_o=rep_data[rep_data['o']==1]"
   ]
  },
  {
   "cell_type": "code",
   "execution_count": 17,
   "metadata": {},
   "outputs": [],
   "source": [
    "ext_data['const']=1\n",
    "ext_data_n=ext_data[ext_data['n']==1]\n",
    "ext_data_i=ext_data[ext_data['i']==1]\n",
    "ext_data_o=ext_data[ext_data['o']==1]"
   ]
  },
  {
   "cell_type": "markdown",
   "metadata": {},
   "source": [
    "### Making Table I"
   ]
  },
  {
   "cell_type": "markdown",
   "metadata": {},
   "source": [
    "#### Model\n",
    "The model for Table I is `equation(7)` in the paper, which is:\n",
    "$$ln(\\frac{Y}{L})=a+\\frac{\\alpha}{1-\\alpha}ln(s)-\\frac{\\alpha}{1-\\alpha}ln(n+g+d)+\\epsilon$$\n",
    "where $\\alpha$ is the capital income share.\n",
    "From the above equation, an implied $\\alpha$ in restricted regression can be computed by $$\\alpha=\\frac{b}{1+b}$$ \n",
    "where b is the coefficient on `ls-lngd`"
   ]
  },
  {
   "cell_type": "markdown",
   "metadata": {},
   "source": [
    "#### Replication"
   ]
  },
  {
   "cell_type": "code",
   "execution_count": 18,
   "metadata": {},
   "outputs": [],
   "source": [
    "#Unrestricted model\n",
    "reg1=sm.OLS(endog = rep_data_n['lgdp85'],\n",
    "              exog = rep_data_n[['const', 'ls', 'lngd']],\n",
    "             missing = 'drop').fit()\n",
    "reg2=sm.OLS(endog = rep_data_i['lgdp85'],\n",
    "              exog = rep_data_i[['const', 'ls', 'lngd']],\n",
    "             missing = 'drop').fit()\n",
    "reg3=sm.OLS(endog = rep_data_o['lgdp85'],\n",
    "              exog = rep_data_o[['const', 'ls', 'lngd']],\n",
    "             missing = 'drop').fit()"
   ]
  },
  {
   "cell_type": "code",
   "execution_count": 19,
   "metadata": {},
   "outputs": [],
   "source": [
    "#Restricted model\n",
    "regr1=sm.OLS(endog = rep_data_n['lgdp85'],\n",
    "              exog = rep_data_n[['const', 'ls-lngd']],\n",
    "             missing = 'drop').fit()\n",
    "regr2=sm.OLS(endog = rep_data_i['lgdp85'],\n",
    "              exog = rep_data_i[['const', 'ls-lngd']],\n",
    "             missing = 'drop').fit()\n",
    "regr3=sm.OLS(endog = rep_data_o['lgdp85'],\n",
    "              exog = rep_data_o[['const', 'ls-lngd']],\n",
    "             missing = 'drop').fit()"
   ]
  },
  {
   "cell_type": "code",
   "execution_count": 20,
   "metadata": {},
   "outputs": [],
   "source": [
    "info_dict = {'N': lambda x:f\"{x.nobs:.0f}\",\n",
    "            's.e.e.': lambda x: f\"{np.sqrt(x.scale):.2f}\",\n",
    "            'Implied α': lambda x: f\"{x.params[1]/(1 + x.params[1]):.2f}\"}\n",
    "\n",
    "results_unres = summary_col(results = [reg1, reg2, reg3],\n",
    "                           float_format='%0.2f',\n",
    "                           stars = True,\n",
    "                           model_names = ['Non-Oil',\n",
    "                                         'Intermediate',\n",
    "                                         'OECD'],\n",
    "                           info_dict = {'s.e.e.': lambda x: f\"{np.sqrt(x.scale):.2f}\"},\n",
    "                           regressor_order = ['const',\n",
    "                                             'ls',\n",
    "                                             'lngd'])\n",
    "\n",
    "\n",
    "results_res = summary_col(results = [regr1, regr2, regr3],\n",
    "                           float_format='%0.2f',\n",
    "                           stars = True,\n",
    "                           model_names = ['Non-Oil',\n",
    "                                         'Intermediate',\n",
    "                                         'OECD'],\n",
    "                           info_dict = info_dict,\n",
    "                           regressor_order = ['const',\n",
    "                                             'ls',\n",
    "                                             'ls-lngd'])"
   ]
  },
  {
   "cell_type": "markdown",
   "metadata": {},
   "source": [
    "#### Extension"
   ]
  },
  {
   "cell_type": "code",
   "execution_count": 21,
   "metadata": {},
   "outputs": [],
   "source": [
    "#Unrestricted model\n",
    "ereg1=sm.OLS(endog = ext_data_n['lgdp19'],\n",
    "              exog = ext_data_n[['const', 'ls', 'lngd']],\n",
    "             missing = 'drop').fit()\n",
    "ereg2=sm.OLS(endog = ext_data_i['lgdp19'],\n",
    "              exog = ext_data_i[['const', 'ls', 'lngd']],\n",
    "             missing = 'drop').fit()\n",
    "ereg3=sm.OLS(endog = ext_data_o['lgdp19'],\n",
    "              exog = ext_data_o[['const', 'ls', 'lngd']],\n",
    "             missing = 'drop').fit()"
   ]
  },
  {
   "cell_type": "code",
   "execution_count": 22,
   "metadata": {},
   "outputs": [],
   "source": [
    "#Restricted model\n",
    "eregr1=sm.OLS(endog = ext_data_n['lgdp19'],\n",
    "              exog = ext_data_n[['const', 'ls-lngd']],\n",
    "             missing = 'drop').fit()\n",
    "eregr2=sm.OLS(endog = ext_data_i['lgdp19'],\n",
    "              exog = ext_data_i[['const', 'ls-lngd']],\n",
    "             missing = 'drop').fit()\n",
    "eregr3=sm.OLS(endog = ext_data_o['lgdp19'],\n",
    "              exog = ext_data_o[['const', 'ls-lngd']],\n",
    "             missing = 'drop').fit()"
   ]
  },
  {
   "cell_type": "code",
   "execution_count": 23,
   "metadata": {},
   "outputs": [],
   "source": [
    "info_dict = {\n",
    "            'N': lambda x: f\"{x.nobs:.0f}\",\n",
    "            's.e.e.': lambda x: f\"{np.sqrt(x.scale):.2f}\",\n",
    "            'Implied α': lambda x: f\"{x.params[1]/(1 + x.params[1]):.2f}\"}\n",
    "\n",
    "results_unres = summary_col(results = [ereg1, ereg2, ereg3],\n",
    "                           float_format='%0.2f',\n",
    "                           stars = True,\n",
    "                           model_names = ['Non-Oil',\n",
    "                                         'Intermediate',\n",
    "                                         'OECD'],\n",
    "                           info_dict = {'s.e.e.': lambda x: np.sqrt(x.scale)},\n",
    "                           regressor_order = ['const',\n",
    "                                             'ls',\n",
    "                                             'lngd'])\n",
    "\n",
    "\n",
    "results_res = summary_col(results = [eregr1, eregr2, eregr3],\n",
    "                           float_format='%0.2f',\n",
    "                           stars = True,\n",
    "                           model_names = ['Non-Oil',\n",
    "                                         'Intermediate',\n",
    "                                         'OECD'],\n",
    "                           info_dict = info_dict,\n",
    "                           regressor_order = ['const',\n",
    "                                             'ls',\n",
    "                                             'ls-lngd'])"
   ]
  },
  {
   "cell_type": "markdown",
   "metadata": {},
   "source": [
    "#### Brief comparation\n",
    "\n",
    "![Table1.png](Table1.png)\n",
    "<style>\n",
    "table {\n",
    "    border-collapse: collapse;\n",
    "}\n",
    "table,td,th {\n",
    "   border: none!important;\n",
    "}\n",
    "blockquote {\n",
    "    border-left: none;\n",
    "    padding-left: 10px;\n",
    "}\n",
    "</style>\n",
    "\n",
    "$$Table I: Standard\\, Solow\\, Model$$\n",
    "\n",
    "|   | Non-Oil            | Intermediate       | OECD              |               | Non-Oil            | Intermediate       | OECD               |\n",
    "|:---------------|:-------------------:|:-------------------:|:-------------------:|:---------------:|:-------------------:|:-------------------:|:-------------------:|\n",
    "|  <span style=\"font-weight:bold\">Unrestricted </span>     |               | <span style=\"font-weight:bold\">Dep. Var: lgdp85</span>                |            |           |         |   <span style=\"font-weight:bold\">Dep. Var: lgdp19</span>      |           |\n",
    "| const       | 2.13               | 1.97               | 6.90**             |          | 6.92***            | 6.38***            | 14.00***           |\n",
    "|                | (1.97)             | (1.94)             | (2.52)             |               | (1.75)             | (1.69)             | (1.21)             |\n",
    "| ls             | 0.83***            | 0.72***            | -0.28              |              | 0.72**             | 0.23               | -0.09              |\n",
    "|                | (0.18)             | (0.22)             | (0.33)             |               | (0.32)             | (0.38)             | (0.33)             |\n",
    "| lngd           | -3.13***           | -3.21***           | -1.21              |           | -1.42**            | -1.47**            | 0.97**             |\n",
    "|                | (0.73)             | (0.71)             | (0.81)             |                | (0.59)             | (0.56)             | (0.36)             |\n",
    "| R-squared Adj. | 0.32               | 0.32               | 0.01               |  | 0.12               | 0.08               | 0.22               |\n",
    "| s.e.e.         | 0.96      | 0.90           | 0.30   |        | 1.15 | 1.03 | 0.27 |\n",
    "| <span style=\"font-weight:bold\">Restricted</span>      |             |        |                |     |             |        |                |\n",
    "| const          | 7.94***            | 8.15***            | 10.48***            |         | 8.61***   | 9.24***        | 12.10*** |\n",
    "|                | (0.23)             | (0.29)             | (0.36)              |               | (0.40)    | (0.49)         | (0.41)   |\n",
    "| ls-lngd        | 1.03***            | 1.02***            | 0.10                |       | 0.90***   | 0.64**         | -0.49**  |\n",
    "|                | (0.17)             | (0.21)             | (0.21)              |               | (0.26)    | (0.31)         | (0.23)   |\n",
    "| R-squared Adj. | 0.26               | 0.24               | -0.04               |  | 0.13      | 0.05           | 0.15     |\n",
    "| N              | 96                 | 75                 | 22                  |              | 78        | 64             | 22       |\n",
    " s.e.e.         | 1.00               | 0.96               | 0.31                |       | 1.15      | 1.05           | 0.28     |\n",
    "| Implied α      | 0.51 | 0.51 | 0.09 |      | 0.47      | 0.39           | -0.97    |\n",
    "\n",
    "\n",
    "Although the numbers vary, the coefficients in Non-Oil and Intermediate sample in repliaction and extension regression are still somehow consistent with the orginal data. However, the coefficients and implied $\\alpha$ in OECD sample seem to be unreasonable."
   ]
  },
  {
   "cell_type": "markdown",
   "metadata": {},
   "source": [
    "### Making Table II"
   ]
  },
  {
   "cell_type": "markdown",
   "metadata": {},
   "source": [
    "#### Model\n",
    "The model for Table II is `equation(11)` in the paper, which is:\n",
    "$$ln(\\frac{Y(t)}{L(t)})=ln A(0)+gt+\\frac{\\alpha}{1-\\alpha-\\beta}ln(s)-\\frac{\\alpha+\\beta}{1-\\alpha-\\beta}ln(n+g+d)+\\frac{\\beta}{1-\\alpha-\\beta}ln(school)+\\epsilon$$\n",
    "where $\\beta$ is the human capital income share.\n",
    "The above equation can be written as:\n",
    "$$ln(\\frac{Y(t)}{L(t)})=ln A(0)+gt+\\frac{\\alpha}{1-\\alpha-\\beta}(ln(s)-ln(n+g+d))+\\frac{\\beta}{1-\\alpha-\\beta}(ln(school)-ln(n+g+d))+\\epsilon$$\n",
    "which is the restricted form and the implied $\\alpha$,$\\beta$ are\n",
    "$$\\alpha=\\frac{b_1}{1+b_1+b_2}$$\n",
    "$$\\beta=\\frac{b_2}{1+b_1+b_2}$$\n",
    "where $b_1$ is the coefficient on `ls-lngd` while $b_2$ is the coefficient on `lschool-lngd`"
   ]
  },
  {
   "cell_type": "markdown",
   "metadata": {},
   "source": [
    "#### Replication"
   ]
  },
  {
   "cell_type": "code",
   "execution_count": 24,
   "metadata": {},
   "outputs": [],
   "source": [
    "#Unrestricted model\n",
    "regh1=sm.OLS(endog = rep_data_n['lgdp85'],\n",
    "              exog = rep_data_n[['const', 'ls', 'lngd','lschool']],\n",
    "             missing = 'drop').fit()\n",
    "regh2=sm.OLS(endog = rep_data_i['lgdp85'],\n",
    "              exog = rep_data_i[['const', 'ls', 'lngd','lschool']],\n",
    "             missing = 'drop').fit()\n",
    "regh3=sm.OLS(endog = rep_data_o['lgdp85'],\n",
    "              exog = rep_data_o[['const', 'ls', 'lngd','lschool']],\n",
    "             missing = 'drop').fit()"
   ]
  },
  {
   "cell_type": "code",
   "execution_count": 25,
   "metadata": {},
   "outputs": [],
   "source": [
    "#Restricted model\n",
    "reghr1=sm.OLS(endog = rep_data_n['lgdp85'],\n",
    "              exog = rep_data_n[['const', 'ls-lngd','lschool-lngd']],\n",
    "             missing = 'drop').fit()\n",
    "reghr2=sm.OLS(endog = rep_data_i['lgdp85'],\n",
    "              exog = rep_data_i[['const', 'ls-lngd','lschool-lngd']],\n",
    "             missing = 'drop').fit()\n",
    "reghr3=sm.OLS(endog = rep_data_o['lgdp85'],\n",
    "              exog = rep_data_o[['const', 'ls-lngd','lschool-lngd']],\n",
    "             missing = 'drop').fit()"
   ]
  },
  {
   "cell_type": "code",
   "execution_count": 26,
   "metadata": {},
   "outputs": [],
   "source": [
    "info_dictu = {\n",
    "            'N': lambda x: f\"{x.nobs:.0f}\",\n",
    "            's.e.e.': lambda x: f\"{np.sqrt(x.scale):.2f}\"}\n",
    "\n",
    "info_dictr = {\n",
    "            'N': lambda x: f\"{x.nobs:.0f}\",\n",
    "            's.e.e.': lambda x:f\"{np.sqrt(x.scale):.2f}\",\n",
    "            'Implied α': lambda x: f\"{x.params[1]/(1 + x.params[1] + x.params[2]):.2f}\",\n",
    "            'Implied β': lambda x: f\"{x.params[2]/(1 + x.params[1] + x.params[2]):.2f}\"}\n",
    "\n",
    "results_unres = summary_col(results = [regh1, regh2, regh3],\n",
    "                           float_format='%0.2f',\n",
    "                           stars = True,\n",
    "                           model_names = ['Non-Oil',\n",
    "                                         'Intermediate',\n",
    "                                         'OECD'],\n",
    "                           info_dict = info_dictu,\n",
    "                           regressor_order = ['const',\n",
    "                                             'ls',\n",
    "                                             'lngd',\n",
    "                                             'lschool'])\n",
    "\n",
    "\n",
    "results_res = summary_col(results = [reghr1, reghr2, reghr3],\n",
    "                           float_format='%0.2f',\n",
    "                           stars = True,\n",
    "                           model_names = ['Non-Oil',\n",
    "                                         'Intermediate',\n",
    "                                         'OECD'],\n",
    "                           info_dict = info_dictr,\n",
    "                           regressor_order = ['const',\n",
    "                                             'ls',\n",
    "                                             'ls-lngd',\n",
    "                                             'lsch-lngd'])"
   ]
  },
  {
   "cell_type": "markdown",
   "metadata": {},
   "source": [
    "#### Extension"
   ]
  },
  {
   "cell_type": "code",
   "execution_count": 27,
   "metadata": {},
   "outputs": [],
   "source": [
    "#Unrestricted model\n",
    "eregh1=sm.OLS(endog = ext_data_n['lgdp19'],\n",
    "              exog = ext_data_n[['const', 'ls', 'lngd','lschool']],\n",
    "             missing = 'drop').fit()\n",
    "eregh2=sm.OLS(endog = ext_data_i['lgdp19'],\n",
    "              exog = ext_data_i[['const', 'ls', 'lngd','lschool']],\n",
    "             missing = 'drop').fit()\n",
    "eregh3=sm.OLS(endog = ext_data_o['lgdp19'],\n",
    "              exog = ext_data_o[['const', 'ls', 'lngd','lschool']],\n",
    "             missing = 'drop').fit()"
   ]
  },
  {
   "cell_type": "code",
   "execution_count": 28,
   "metadata": {},
   "outputs": [],
   "source": [
    "#Restricted model\n",
    "ereghr1=sm.OLS(endog = ext_data_n['lgdp19'],\n",
    "              exog = ext_data_n[['const', 'ls-lngd','lschool-lngd']],\n",
    "             missing = 'drop').fit()\n",
    "ereghr2=sm.OLS(endog = ext_data_i['lgdp19'],\n",
    "              exog = ext_data_i[['const', 'ls-lngd','lschool-lngd']],\n",
    "             missing = 'drop').fit()\n",
    "ereghr3=sm.OLS(endog = ext_data_o['lgdp19'],\n",
    "              exog = ext_data_o[['const', 'ls-lngd','lschool-lngd']],\n",
    "             missing = 'drop').fit()"
   ]
  },
  {
   "cell_type": "code",
   "execution_count": 29,
   "metadata": {},
   "outputs": [],
   "source": [
    "info_dictu = {\n",
    "            'N': lambda x: f\"{x.nobs:.0f}\",\n",
    "            's.e.e.': lambda x: f\"{np.sqrt(x.scale):.2f}\"}\n",
    "\n",
    "info_dictr = {\n",
    "            'N': lambda x: f\"{x.nobs:.0f}\",\n",
    "            's.e.e.': lambda x: f\"{np.sqrt(x.scale):.2f}\",\n",
    "            'Implied α': lambda x: f\"{x.params[1]/(1 + x.params[1] + x.params[2]):.2f}\",\n",
    "            'Implied β': lambda x: f\"{x.params[2]/(1 + x.params[1] + x.params[2]):.2f}\"}\n",
    "\n",
    "results_unres = summary_col(results = [eregh1, eregh2, eregh3],\n",
    "                           float_format='%0.2f',\n",
    "                           stars = True,\n",
    "                           model_names = ['Non-Oil',\n",
    "                                         'Intermediate',\n",
    "                                         'OECD'],\n",
    "                           info_dict = info_dictu,\n",
    "                           regressor_order = ['const',\n",
    "                                             'ls',\n",
    "                                             'lngd',\n",
    "                                             'lschool'])\n",
    "\n",
    "\n",
    "results_res = summary_col(results = [ereghr1, ereghr2, ereghr3],\n",
    "                           float_format='%0.2f',\n",
    "                           stars = True,\n",
    "                           model_names = ['Non-Oil',\n",
    "                                         'Intermediate',\n",
    "                                         'OECD'],\n",
    "                           info_dict = info_dictr,\n",
    "                           regressor_order = ['const',\n",
    "                                             'ls',\n",
    "                                             'ls-lngd',\n",
    "                                             'lsch-lngd'])"
   ]
  },
  {
   "cell_type": "markdown",
   "metadata": {},
   "source": [
    "#### Brief comparation\n",
    "\n",
    "![Table2.png](Table2.png)\n",
    "<style>\n",
    "table {\n",
    "    border-collapse: collapse;\n",
    "}\n",
    "table,td,th {\n",
    "   border: none!important;\n",
    "}\n",
    "blockquote {\n",
    "    border-left: none;\n",
    "    padding-left: 10px;\n",
    "}\n",
    "</style>\n",
    "$$Table II: Augmented\\, Solow\\, Model$$\n",
    "\n",
    "|                | Non-Oil            | Intermediate       | OECD                |                | Non-Oil            | Intermediate       | OECD                |\n",
    "|:---------------|:-------------------:|:-------------------:|:--------------------:|:---------------|:-------------------:|:-------------------:|:--------------------:|\n",
    "|  <span style=\"font-weight:bold\">Unrestricted </span>     |               |      <span style=\"font-weight:bold\">Dep. Var: lgdp85</span>          |            |           |         |       <span style=\"font-weight:bold\">Dep. Var: lgdp19</span>      |           |\n",
    "| const          | 8.36***            | 8.05***            | 8.98***             |          | 8.75***            | 8.18***            | 13.20***            |\n",
    "|                | (1.43)             | (1.54)             | (1.44)              |               | (1.05)             | (1.18)             | (0.78)              |\n",
    "| ls             | 0.32**             | 0.31*              | 0.20                |             | 0.15               | 0.05               | 0.65**              |\n",
    "|                | (0.13)             | (0.16)             | (0.20)              |              | (0.19)             | (0.26)             | (0.25)              |\n",
    "| lngd           | -0.01              | -0.16              | -0.28               |           | 0.33               | 0.15               | 0.89***             |\n",
    "|                | (0.56)             | (0.61)             | (0.47)              |               | (0.38)             | (0.43)             | (0.23)              |\n",
    "| lschool        | 2.64***            | 2.52***            | 1.19***             |         | 3.22***            | 3.15***            | 1.39***             |\n",
    "|                | (0.24)             | (0.29)             | (0.18)              |              | (0.27)             | (0.38)             | (0.26)              |\n",
    "| R-squared Adj. | 0.70               | 0.66               | 0.69                |  | 0.69               | 0.57               | 0.68                |\n",
    "| s.e.e.         | 0.63 | 0.63 | 0.17 |       | 0.68 | 0.71 | 0.17 |\n",
    "| <span style=\"font-weight:bold\">Restricted</span>      |             |        |                |     |             |        |                |\n",
    "| const          | 2.76***            | 3.34***            | 6.89***             |          | 3.10***            | 4.08***            | 11.08***            |\n",
    "|                | (0.53)             | (0.60)             | (0.58)              |             | (0.76)             | (0.89)             | (1.13)              |\n",
    "| ls-lngd        | 0.31**             | 0.28               | -0.05               |      | -0.16              | -0.35              | -0.53**             |\n",
    "|                | (0.14)             | (0.17)             | (0.12)              |               | (0.24)             | (0.28)             | (0.23)              |\n",
    "| lschool-lngd   | 1.95***            | 1.81***            | 1.02***             |   | 2.02***            | 1.85***            | 0.27                |\n",
    "|                | (0.19)             | (0.21)             | (0.15)              |              | (0.25)             | (0.29)             | (0.28)              |\n",
    "| R-squared Adj. | 0.65               | 0.62               | 0.67                | | 0.52               | 0.43               | 0.14                |\n",
    "| N              | 95                 | 75                 | 22                  |              | 78                 | 64                 | 22                  |\n",
    "| s.e.e.         | 0.68 | 0.68 | 0.18|         | 0.85| 0.81 | 0.28 |\n",
    "| Implied α      | 0.10               | 0.09               | -0.03               |     | -0.06              | -0.14              | -0.72      \n",
    "| Implied β      | 0.60               | 0.59               | 0.52                |      | 0.71               | 0.74               | 0.36                |\n",
    "\n",
    "The human capital measure enters significantly in all samples in both replication and extension dataset, which matches the orginal result. However, there are huge differences in coefficients on `lngd` and consequently `ls-lngd` especially in the extension dataset. The constraint that the coefficients on `ls` and `lngd` are equal in magnitude and opposite in sign is rejected except the Non-oil replication case. The implied $\\alpha$ and $\\beta$ are also imprecise."
   ]
  },
  {
   "cell_type": "markdown",
   "metadata": {},
   "source": [
    "### Making Table III"
   ]
  },
  {
   "cell_type": "markdown",
   "metadata": {},
   "source": [
    "#### Model\n",
    "The model for Table III and V is `equation(16)` in the paper, which is:\n",
    "$$ln(y(t))-ln(y(0))=(1- e^{-\\lambda t})\\frac{\\alpha}{1-\\alpha-\\beta}ln(s)+(1- e^{-\\lambda t})\\frac{\\beta}{1-\\alpha-\\beta}ln(school)-(1- e^{-\\lambda t})\\frac{\\alpha+\\beta}{1-\\alpha-\\beta}ln(n+g+d)-(1- e^{-\\lambda t})ln(y(0))$$\n",
    "where $\\lambda$ is the convergence rate.\n",
    "An implied $\\lambda$ can be computed by \n",
    "$$\\lambda= \\frac{-ln(b+1)}{t}$$ \n",
    "where t is the time periods and b is the coefficient on $ln(y(0))$.\n",
    "In Table III, only $ln(y(0))$ was used as a regressor."
   ]
  },
  {
   "cell_type": "markdown",
   "metadata": {},
   "source": [
    "#### Replication"
   ]
  },
  {
   "cell_type": "code",
   "execution_count": 30,
   "metadata": {},
   "outputs": [],
   "source": [
    "regcon1 = sm.OLS(endog = (rep_data_n['lgdpdiff']),\n",
    "               exog = rep_data_n[['const', 'lgdp60']],\n",
    "               missing = 'drop').fit()\n",
    "\n",
    "regcon2 = sm.OLS(endog = (rep_data_i['lgdpdiff']),\n",
    "               exog = rep_data_i[['const', 'lgdp60']],\n",
    "               missing = 'drop').fit()\n",
    "\n",
    "regcon3 = sm.OLS(endog = (rep_data_o['lgdpdiff']),\n",
    "               exog = rep_data_o[['const', 'lgdp60']],\n",
    "               missing = 'drop').fit()"
   ]
  },
  {
   "cell_type": "code",
   "execution_count": 31,
   "metadata": {},
   "outputs": [],
   "source": [
    "info_dictroc = {\n",
    "            'N': lambda x: f\"{x.nobs:.0f}\",\n",
    "            's.e.e.': lambda x: f\"{np.sqrt(x.scale):.2f}\",\n",
    "            'Implied λ': lambda x: f\"{-np.log(x.params[1] + 1)/25:.5f}\"}\n",
    "\n",
    "results_roc = summary_col(results = [regcon1, regcon2, regcon3],\n",
    "                           float_format='%0.5f',\n",
    "                           stars = True,\n",
    "                           model_names = ['Non-Oil',\n",
    "                                         'Intermediate',\n",
    "                                         'OECD'],\n",
    "                           info_dict = info_dictroc,\n",
    "                           regressor_order = ['const',\n",
    "                                             'lgdp60'])"
   ]
  },
  {
   "cell_type": "markdown",
   "metadata": {},
   "source": [
    "#### Extension"
   ]
  },
  {
   "cell_type": "code",
   "execution_count": 32,
   "metadata": {},
   "outputs": [],
   "source": [
    "eregcon1 = sm.OLS(endog = (ext_data_n['lgdpdiff']),\n",
    "               exog = ext_data_n[['const', 'lgdp60']],\n",
    "               missing = 'drop').fit()\n",
    "\n",
    "eregcon2 = sm.OLS(endog = (ext_data_i['lgdpdiff']),\n",
    "               exog = ext_data_i[['const', 'lgdp60']],\n",
    "               missing = 'drop').fit()\n",
    "\n",
    "eregcon3 = sm.OLS(endog = (ext_data_o['lgdpdiff']),\n",
    "               exog = ext_data_o[['const', 'lgdp60']],\n",
    "               missing = 'drop').fit()"
   ]
  },
  {
   "cell_type": "code",
   "execution_count": 33,
   "metadata": {},
   "outputs": [],
   "source": [
    "info_dictroc_ext = {\n",
    "            'N': lambda x: f\"{x.nobs:.0f}\",\n",
    "            's.e.e.': lambda x: f\"{np.sqrt(x.scale):.2f}\",\n",
    "            'Implied λ': lambda x: f\"{-np.log(x.params[1] + 1)/59:.5f}\"}\n",
    "\n",
    "results_roc = summary_col(results = [eregcon1, eregcon2, eregcon3],\n",
    "                           float_format='%0.5f',\n",
    "                           stars = True,\n",
    "                           model_names = ['Non-Oil',\n",
    "                                         'Intermediate',\n",
    "                                         'OECD'],\n",
    "                           info_dict = info_dictroc_ext,\n",
    "                           regressor_order = ['const',\n",
    "                                             'lgdp60'])"
   ]
  },
  {
   "cell_type": "markdown",
   "metadata": {},
   "source": [
    "#### Brief comparation\n",
    "\n",
    "![Table3.png](Table3.png)\n",
    "<style>\n",
    "table {\n",
    "    border-collapse: collapse;\n",
    "}\n",
    "table,td,th {\n",
    "   border: none!important;\n",
    "}\n",
    "blockquote {\n",
    "    border-left: none;\n",
    "    padding-left: 10px;\n",
    "}\n",
    "</style>\n",
    "$$Table III: Tests\\, for\\, Unconditional\\, Convergence$$\n",
    "\n",
    "|                | Non-Oil   | Intermediate   | OECD        |                | Non-Oil   | Intermediate   | OECD        |\n",
    "|:---------------|:----------:|:---------------:|:------------:|:---------------|:----------:|:---------------:|:------------:|\n",
    "|                |           |    <span style=\"font-weight:bold\">Dep. Var: lgdp85-lgdp60</span> |            |           |         |     <span style=\"font-weight:bold\">Dep. Var: lgdp19-lgdp60</span>  |           |\n",
    "| const          | -0.20625  | 0.34028        | 4.75173***  |          | 0.86167   | 1.62433**      | 6.57276***  |\n",
    "|                | (0.39541) | (0.44646)      | (0.84632)   |    |(0.69224) | (0.80352)      | (1.13909)   |\n",
    "| lgdp60         | 0.07617*  | 0.02060        | -0.40670*** |         | 0.01167   | -0.06459       | -0.53231*** |\n",
    "|                | (0.04486) | (0.04951)      | (0.08517)   |               | (0.07854) | (0.08911)      | (0.11464)   |\n",
    "| R-squared Adj. | 0.02049   | -0.01146       | 0.50935     | | -0.01099  | -0.00654       | 0.49472     |\n",
    "| N              | 91        | 74             | 22          |              | 91        | 74             | 22          |\n",
    "| s.e.e.         | 0.43      | 0.41           | 0.17        |         | 0.75      | 0.74           | 0.23        |\n",
    "| Implied λ      | -0.00294  | -0.00082       | 0.02088     |      | -0.00020  | 0.00113        | 0.01288     |\n",
    "\n",
    "The coefficient on the initial level of GDP per worker is slightly positive in replication Non-Oil sample and significantly negative in OECD sample in both dataset. The result align with the orginal one. As for the implied $\\lambda$, only OECD samples show a greater speed of convergence. However, I don't know how to calculate the standard error for $\\lambda$, so couldn't check for the significence. "
   ]
  },
  {
   "cell_type": "markdown",
   "metadata": {},
   "source": [
    "### Making Table V"
   ]
  },
  {
   "cell_type": "markdown",
   "metadata": {},
   "source": [
    "#### Replication"
   ]
  },
  {
   "cell_type": "code",
   "execution_count": 34,
   "metadata": {},
   "outputs": [],
   "source": [
    "regcon4 = sm.OLS(endog = (rep_data_n['lgdpdiff']),\n",
    "               exog = rep_data_n[['const', 'lgdp60','ls','lngd','lschool']],\n",
    "               missing = 'drop').fit()\n",
    "\n",
    "regcon5 = sm.OLS(endog = (rep_data_i['lgdpdiff']),\n",
    "               exog = rep_data_i[['const', 'lgdp60','ls','lngd','lschool']],\n",
    "               missing = 'drop').fit()\n",
    "\n",
    "regcon6 = sm.OLS(endog = (rep_data_o['lgdpdiff']),\n",
    "               exog = rep_data_o[['const', 'lgdp60','ls','lngd','lschool']],\n",
    "               missing = 'drop').fit()"
   ]
  },
  {
   "cell_type": "code",
   "execution_count": 35,
   "metadata": {},
   "outputs": [],
   "source": [
    "results_roc2 = summary_col(results = [regcon4, regcon5, regcon6],\n",
    "                           float_format='%0.5f',\n",
    "                           stars = True,\n",
    "                           model_names = ['Non-Oil',\n",
    "                                         'Intermediate',\n",
    "                                         'OECD'],\n",
    "                           info_dict = info_dictroc,\n",
    "                           regressor_order = ['const',\n",
    "                                             'lgdp60',\n",
    "                                             'ls',\n",
    "                                             'lngd',\n",
    "                                             'lschool'])"
   ]
  },
  {
   "cell_type": "markdown",
   "metadata": {},
   "source": [
    "#### Extension"
   ]
  },
  {
   "cell_type": "code",
   "execution_count": 36,
   "metadata": {},
   "outputs": [],
   "source": [
    "eregcon4 = sm.OLS(endog = (ext_data_n['lgdpdiff']),\n",
    "               exog = ext_data_n[['const', 'lgdp60','ls','lngd','lschool']],\n",
    "               missing = 'drop').fit()\n",
    "\n",
    "eregcon5 = sm.OLS(endog = (ext_data_i['lgdpdiff']),\n",
    "               exog = ext_data_i[['const', 'lgdp60','ls','lngd','lschool']],\n",
    "               missing = 'drop').fit()\n",
    "\n",
    "eregcon6 = sm.OLS(endog = (ext_data_o['lgdpdiff']),\n",
    "               exog = ext_data_o[['const', 'lgdp60','ls','lngd','lschool']],\n",
    "               missing = 'drop').fit()"
   ]
  },
  {
   "cell_type": "code",
   "execution_count": 37,
   "metadata": {},
   "outputs": [],
   "source": [
    "results_roc2 = summary_col(results = [eregcon4, eregcon5, eregcon6],\n",
    "                           float_format='%0.5f',\n",
    "                           stars = True,\n",
    "                           model_names = ['Non-Oil',\n",
    "                                         'Intermediate',\n",
    "                                         'OECD'],\n",
    "                           info_dict = info_dictroc_ext,\n",
    "                           regressor_order = ['const',\n",
    "                                             'lgdp60',\n",
    "                                             'ls',\n",
    "                                             'lngd',\n",
    "                                             'lschool'])\n",
    "results_roc2.add_title('Tests for Conditional Convergence')"
   ]
  },
  {
   "cell_type": "markdown",
   "metadata": {},
   "source": [
    "#### Brief comparation\n",
    "\n",
    "![Table5.png](Table5.png)\n",
    "<style>\n",
    "table {\n",
    "    border-collapse: collapse;\n",
    "}\n",
    "table,td,th {\n",
    "   border: none!important;\n",
    "}\n",
    "blockquote {\n",
    "    border-left: none;\n",
    "    padding-left: 10px;\n",
    "}\n",
    "</style>\n",
    "$$Table V: Tests\\, for\\, Conditional\\, Convergence$$\n",
    "\n",
    "|                | Non-Oil    | Intermediate   | OECD        |               | Non-Oil     | Intermediate   | OECD        |\n",
    "|:---------------|:-----------:|:---------------:|:------------:|:---------------|:-----------:|:---------------:|:------------:|\n",
    "|                |           |    <span style=\"font-weight:bold\">Dep. Var: lgdp85-lgdp60</span> |            |           |         |     <span style=\"font-weight:bold\">Dep. Var: lgdp19-lgdp60</span>  |           |\n",
    "| const          | 1.98230*   | 1.86388*       | 5.16226***  |           | 5.79836***  | 5.24689***     | 10.51151*** |\n",
    "|                | (1.01055)  | (0.96661)      | (1.03928)   |                | (1.08334)   | (1.14859)      | (1.36150)   |\n",
    "| lgdp60         | -0.14856** | -0.13454*      | -0.47180*** |         | -0.35904*** | -0.24142       | -0.69689*** |\n",
    "|                | (0.06833)  | (0.06812)      | (0.08655)   |              | (0.13013)   | (0.14935)      | (0.13145)   |\n",
    "| ls             | 0.28858*** | 0.39605***     | 0.47606***  |             | 0.29707     | 0.57764**      | 0.81002***  |\n",
    "|                | (0.08234)  | (0.09531)      | (0.12367)   |              | (0.19092)   | (0.24350)      | (0.23310)   |\n",
    "| lngd           | 0.05104    | -0.05048       | -0.12841    |           | 0.90166**   | 0.87675**      | 0.76792***  |\n",
    "|                | (0.33971)  | (0.33622)      | (0.27330)   |               | (0.34732)   | (0.39007)      | (0.21243)   |\n",
    "| lschool        | 0.66129*** | 0.46606**      | 0.45077**   |        | 1.86322***  | 1.55519***     | 0.91186***  |\n",
    "|                | (0.22290)  | (0.22645)      | (0.15908)   |               | (0.38892)   | (0.44669)      | (0.30862)   |\n",
    "| R-squared Adj. | 0.23859    | 0.27304        | 0.83678     |  | 0.32198     | 0.28474        | 0.77577     |\n",
    "| N              | 90         | 74             | 22          |              | 75          | 64             | 22          |\n",
    "| s.e.e.         | 0.38       | 0.35           | 0.10        |         | 0.59        | 0.59           | 0.15        |\n",
    "| Implied λ      | 0.00643    | 0.00578        | 0.02553     |    | 0.00754     | 0.00468        | 0.02023     |\n",
    "\n",
    "After conditioning on other variables, the coefficient on the intial level of GDP per worker now becomes significantly negative in most cases, which supports for the orginal result. In addition, this also means there is strong evidence of convergence. Again, the coefficient on `lngd` in extenstion dataset is not consistent with the orginal result."
   ]
  },
  {
   "cell_type": "markdown",
   "metadata": {},
   "source": [
    "## Part II: Ploting"
   ]
  },
  {
   "cell_type": "markdown",
   "metadata": {},
   "source": [
    "#### Replication"
   ]
  },
  {
   "cell_type": "markdown",
   "metadata": {},
   "source": [
    "Presetting for getting panel B and C in Figure I"
   ]
  },
  {
   "cell_type": "code",
   "execution_count": 38,
   "metadata": {},
   "outputs": [],
   "source": [
    "#B\n",
    "#Partialing out the effect from `ls` and `lngd` for both `lgdp60` and `avg_gdpg`\n",
    "\n",
    "reg_pltbx = sm.OLS(rep_data['lgdp60'],\n",
    "                 rep_data[['lngd', 'ls']],\n",
    "                 missing = 'drop').fit()\n",
    "residlgdp60b = reg_pltbx.resid\n",
    "\n",
    "reg_pltby = sm.OLS(rep_data['avg_gdpg'],\n",
    "                 rep_data[['lngd', 'ls']],\n",
    "                 missing = 'drop').fit()\n",
    "residgdpgb = reg_pltby.resid\n",
    "#C\n",
    "#Partialing out an addition effect from `lschool`\n",
    "reg_pltcx = sm.OLS(rep_data['lgdp60'],\n",
    "                 rep_data[['lngd', 'ls','lschool']],\n",
    "                 missing = 'drop').fit()\n",
    "residlgdp60c = reg_pltcx.resid\n",
    "\n",
    "reg_pltcy = sm.OLS(rep_data['avg_gdpg'],\n",
    "                 rep_data[['lngd', 'ls','lschool']],\n",
    "                 missing = 'drop').fit()\n",
    "residgdpgc = reg_pltcy.resid"
   ]
  },
  {
   "cell_type": "code",
   "execution_count": 39,
   "metadata": {},
   "outputs": [],
   "source": [
    "rep_data['lgdp60_partialb']=np.mean(rep_data['lgdp60'])+residlgdp60b\n",
    "rep_data['avg_gdpg_partialb']=np.mean(rep_data['avg_gdpg'])+residgdpgb\n",
    "\n",
    "rep_data['lgdp60_partialc']=np.mean(rep_data['lgdp60'])+residlgdp60c\n",
    "rep_data['avg_gdpg_partialc']=np.mean(rep_data['avg_gdpg'])+residgdpgc"
   ]
  },
  {
   "cell_type": "markdown",
   "metadata": {},
   "source": [
    "Add extra ablines"
   ]
  },
  {
   "cell_type": "code",
   "execution_count": 40,
   "metadata": {},
   "outputs": [],
   "source": [
    "#panel A\n",
    "x1=rep_data['lgdp60']\n",
    "y=rep_data['avg_gdpg']\n",
    "x1=sm.add_constant(x1)\n",
    "ablinereg1=sm.OLS(y,x1,missing='drop').fit()\n",
    "abline1=ablinereg1.params[1]*x1+ablinereg1.params[0]\n",
    "#panel B\n",
    "x2=rep_data['lgdp60_partialb']\n",
    "y=rep_data['avg_gdpg_partialb']\n",
    "x2=sm.add_constant(x2)\n",
    "ablinereg2=sm.OLS(y,x2,missing='drop').fit()\n",
    "abline2=ablinereg2.params[1]*x2+ablinereg2.params[0]\n",
    "#panel C\n",
    "x3=rep_data['lgdp60_partialc']\n",
    "y=rep_data['avg_gdpg_partialc']\n",
    "x3=sm.add_constant(x3)\n",
    "ablinereg3=sm.OLS(y,x3,missing='drop').fit()\n",
    "abline3=ablinereg3.params[1]*x3+ablinereg3.params[0]"
   ]
  },
  {
   "cell_type": "markdown",
   "metadata": {},
   "source": [
    "#### Extension"
   ]
  },
  {
   "cell_type": "markdown",
   "metadata": {},
   "source": [
    "Presetting for getting panel B and C in Figure I"
   ]
  },
  {
   "cell_type": "code",
   "execution_count": 41,
   "metadata": {},
   "outputs": [],
   "source": [
    "#B\n",
    "#Partialing out the effect from `ls` and `lngd` for both `lgdp60` and `avg_gdpg`\n",
    "\n",
    "ereg_pltbx = sm.OLS(ext_data['lgdp60'],\n",
    "                 ext_data[['lngd', 'ls']],\n",
    "                 missing = 'drop').fit()\n",
    "eresidlgdp60b = ereg_pltbx.resid\n",
    "\n",
    "ereg_pltby = sm.OLS(ext_data['avg_gdpg'],\n",
    "                 ext_data[['lngd', 'ls']],\n",
    "                 missing = 'drop').fit()\n",
    "eresidgdpgb = ereg_pltby.resid\n",
    "#C\n",
    "#Partialing out an addition effect from `lschool`\n",
    "ereg_pltcx = sm.OLS(ext_data['lgdp60'],\n",
    "                 ext_data[['lngd', 'ls','lschool']],\n",
    "                 missing = 'drop').fit()\n",
    "eresidlgdp60c = ereg_pltcx.resid\n",
    "\n",
    "ereg_pltcy = sm.OLS(ext_data['avg_gdpg'],\n",
    "                 ext_data[['lngd', 'ls','lschool']],\n",
    "                 missing = 'drop').fit()\n",
    "eresidgdpgc = ereg_pltcy.resid"
   ]
  },
  {
   "cell_type": "code",
   "execution_count": 42,
   "metadata": {},
   "outputs": [],
   "source": [
    "ext_data['lgdp60_partialb']=np.mean(ext_data['lgdp60'])+eresidlgdp60b\n",
    "ext_data['avg_gdpg_partialb']=np.mean(ext_data['avg_gdpg'])+eresidgdpgb\n",
    "\n",
    "ext_data['lgdp60_partialc']=np.mean(ext_data['lgdp60'])+eresidlgdp60c\n",
    "ext_data['avg_gdpg_partialc']=np.mean(ext_data['avg_gdpg'])+eresidgdpgc"
   ]
  },
  {
   "cell_type": "markdown",
   "metadata": {},
   "source": [
    "Add extra ablines"
   ]
  },
  {
   "cell_type": "code",
   "execution_count": 43,
   "metadata": {},
   "outputs": [],
   "source": [
    "#panel A\n",
    "x4=ext_data['lgdp60']\n",
    "y=ext_data['avg_gdpg']\n",
    "x4=sm.add_constant(x4)\n",
    "ablinereg4=sm.OLS(y,x4,missing='drop').fit()\n",
    "abline4=ablinereg4.params[1]*x4+ablinereg4.params[0]\n",
    "#panel B\n",
    "x5=ext_data['lgdp60_partialb']\n",
    "y=ext_data['avg_gdpg_partialb']\n",
    "x5=sm.add_constant(x5)\n",
    "ablinereg5=sm.OLS(y,x5,missing='drop').fit()\n",
    "abline5=ablinereg5.params[1]*x5+ablinereg5.params[0]\n",
    "#panel C\n",
    "x6=ext_data['lgdp60_partialc']\n",
    "y=ext_data['avg_gdpg_partialc']\n",
    "x6=sm.add_constant(x6)\n",
    "ablinereg6=sm.OLS(y,x6,missing='drop').fit()\n",
    "abline6=ablinereg6.params[1]*x6+ablinereg6.params[0]"
   ]
  },
  {
   "cell_type": "code",
   "execution_count": 44,
   "metadata": {},
   "outputs": [
    {
     "data": {
      "image/png": "[encoded data removed]",
      "text/plain": [
       "<Figure size 1200x1200 with 6 Axes>"
      ]
     },
     "metadata": {},
     "output_type": "display_data"
    }
   ],
   "source": [
    "fig, ax = plt.subplots(3, 2, sharex = 'all',sharey='all', figsize = (12, 12))\n",
    "ax[0,0].scatter(rep_data['lgdp60'], rep_data['avg_gdpg'])\n",
    "ax[0,0].plot(x1, abline1, color='red')\n",
    "ax[0,0].set_xlabel('Log GDP Per Worker in 1960')\n",
    "ax[0,0].set_ylabel('Growth Rate: 1960 - 1985')\n",
    "ax[0,0].set_title('Unconditional')\n",
    "\n",
    "\n",
    "ax[1,0].scatter((rep_data['lgdp60_partialb']), \n",
    "           (rep_data['avg_gdpg_partialb']))\n",
    "ax[1,0].plot(x2, abline2, color='red')\n",
    "ax[1,0].set_xlabel('Log GDP Per Worker in 1960')\n",
    "ax[1,0].set_ylabel('Growth Rate: 1960 - 1985')\n",
    "ax[1,0].set_title('Conditional on saving and population growth')\n",
    "\n",
    "\n",
    "ax[2,0].scatter(rep_data['lgdp60_partialc'], \n",
    "           rep_data['avg_gdpg_partialc'])\n",
    "ax[2,0].plot(x3,abline3,color='red')\n",
    "ax[2,0].set_xlabel('Log GDP Per Worker in 1960')\n",
    "ax[2,0].set_ylabel('Growth Rate: 1960 - 1985')\n",
    "ax[2,0].set_title('Conditional on human capital, saving and population growth')\n",
    "\n",
    "ax[0,1].scatter(ext_data['lgdp60'], ext_data['avg_gdpg'])\n",
    "ax[0,1].plot(x4, abline4, color='red')\n",
    "ax[0,1].set_xlabel('Log GDP Per Worker in 1960')\n",
    "ax[0,1].set_ylabel('Growth Rate: 1960 - 2019')\n",
    "ax[0,1].set_title('Unconditional')\n",
    "\n",
    "\n",
    "ax[1,1].scatter((ext_data['lgdp60_partialb']), \n",
    "           (ext_data['avg_gdpg_partialb']))\n",
    "ax[1,1].plot(x5, abline5, color='red')\n",
    "ax[1,1].set_xlabel('Log GDP Per Worker in 1960')\n",
    "ax[1,1].set_ylabel('Growth Rate: 1960 - 2019')\n",
    "ax[1,1].set_title('Conditional on saving and population growth')\n",
    "\n",
    "\n",
    "ax[2,1].scatter(ext_data['lgdp60_partialc'], \n",
    "           ext_data['avg_gdpg_partialc'])\n",
    "ax[2,1].plot(x6, abline6, color='red')\n",
    "ax[2,1].set_xlabel('Log GDP Per Worker in 1960')\n",
    "ax[2,1].set_ylabel('Growth Rate: 1960 - 2019')\n",
    "ax[2,1].set_title('Conditional on human capital, saving and population growth')\n",
    "plt.show()"
   ]
  },
  {
   "cell_type": "markdown",
   "metadata": {},
   "source": [
    "Remark: See the third row. In the extension dataset(right panel), the effect of the intial level of GDP per worker on average GDP grwoth rate is slighter."
   ]
  },
  {
   "cell_type": "markdown",
   "metadata": {},
   "source": [
    "## Part III: Descriptive Statistics"
   ]
  },
  {
   "cell_type": "code",
   "execution_count": 45,
   "metadata": {},
   "outputs": [
    {
     "data": {
      "text/html": [
       "<div>\n",
       "<style scoped>\n",
       "    .dataframe tbody tr th:only-of-type {\n",
       "        vertical-align: middle;\n",
       "    }\n",
       "\n",
       "    .dataframe tbody tr th {\n",
       "        vertical-align: top;\n",
       "    }\n",
       "\n",
       "    .dataframe thead th {\n",
       "        text-align: right;\n",
       "    }\n",
       "</style>\n",
       "<table border=\"1\" class=\"dataframe\">\n",
       "  <thead>\n",
       "    <tr style=\"text-align: right;\">\n",
       "      <th></th>\n",
       "      <th>count</th>\n",
       "      <th>mean</th>\n",
       "      <th>std</th>\n",
       "      <th>min</th>\n",
       "      <th>25%</th>\n",
       "      <th>50%</th>\n",
       "      <th>75%</th>\n",
       "      <th>max</th>\n",
       "    </tr>\n",
       "  </thead>\n",
       "  <tbody>\n",
       "    <tr>\n",
       "      <th>lgdp60</th>\n",
       "      <td>110.0</td>\n",
       "      <td>8.738803</td>\n",
       "      <td>0.976268</td>\n",
       "      <td>6.199032</td>\n",
       "      <td>8.018415</td>\n",
       "      <td>8.821419</td>\n",
       "      <td>9.426836</td>\n",
       "      <td>10.849015</td>\n",
       "    </tr>\n",
       "    <tr>\n",
       "      <th>lgdp85</th>\n",
       "      <td>153.0</td>\n",
       "      <td>9.316108</td>\n",
       "      <td>1.160448</td>\n",
       "      <td>6.482958</td>\n",
       "      <td>8.458778</td>\n",
       "      <td>9.364663</td>\n",
       "      <td>10.145965</td>\n",
       "      <td>12.084602</td>\n",
       "    </tr>\n",
       "    <tr>\n",
       "      <th>lgdpdiff</th>\n",
       "      <td>110.0</td>\n",
       "      <td>0.485893</td>\n",
       "      <td>0.449191</td>\n",
       "      <td>-0.474365</td>\n",
       "      <td>0.158150</td>\n",
       "      <td>0.443901</td>\n",
       "      <td>0.759353</td>\n",
       "      <td>1.794624</td>\n",
       "    </tr>\n",
       "    <tr>\n",
       "      <th>avg_popg</th>\n",
       "      <td>179.0</td>\n",
       "      <td>0.023337</td>\n",
       "      <td>0.015531</td>\n",
       "      <td>-0.006051</td>\n",
       "      <td>0.013918</td>\n",
       "      <td>0.023257</td>\n",
       "      <td>0.029935</td>\n",
       "      <td>0.111053</td>\n",
       "    </tr>\n",
       "    <tr>\n",
       "      <th>ls</th>\n",
       "      <td>153.0</td>\n",
       "      <td>-1.430703</td>\n",
       "      <td>0.585056</td>\n",
       "      <td>-2.957822</td>\n",
       "      <td>-1.782338</td>\n",
       "      <td>-1.319503</td>\n",
       "      <td>-1.048667</td>\n",
       "      <td>-0.169087</td>\n",
       "    </tr>\n",
       "    <tr>\n",
       "      <th>hc</th>\n",
       "      <td>128.0</td>\n",
       "      <td>1.728347</td>\n",
       "      <td>0.576408</td>\n",
       "      <td>1.010960</td>\n",
       "      <td>1.226156</td>\n",
       "      <td>1.594067</td>\n",
       "      <td>2.095492</td>\n",
       "      <td>3.206118</td>\n",
       "    </tr>\n",
       "    <tr>\n",
       "      <th>lschool</th>\n",
       "      <td>128.0</td>\n",
       "      <td>0.495602</td>\n",
       "      <td>0.318028</td>\n",
       "      <td>0.010900</td>\n",
       "      <td>0.203884</td>\n",
       "      <td>0.466289</td>\n",
       "      <td>0.739786</td>\n",
       "      <td>1.165061</td>\n",
       "    </tr>\n",
       "    <tr>\n",
       "      <th>lngd</th>\n",
       "      <td>179.0</td>\n",
       "      <td>-2.630969</td>\n",
       "      <td>0.184745</td>\n",
       "      <td>-3.124734</td>\n",
       "      <td>-2.750150</td>\n",
       "      <td>-2.613786</td>\n",
       "      <td>-2.526547</td>\n",
       "      <td>-1.826021</td>\n",
       "    </tr>\n",
       "    <tr>\n",
       "      <th>ls-lngd</th>\n",
       "      <td>152.0</td>\n",
       "      <td>1.186548</td>\n",
       "      <td>0.625744</td>\n",
       "      <td>-0.667419</td>\n",
       "      <td>0.709744</td>\n",
       "      <td>1.299714</td>\n",
       "      <td>1.682802</td>\n",
       "      <td>2.530167</td>\n",
       "    </tr>\n",
       "    <tr>\n",
       "      <th>lschool-lngd</th>\n",
       "      <td>128.0</td>\n",
       "      <td>3.109907</td>\n",
       "      <td>0.423503</td>\n",
       "      <td>2.310446</td>\n",
       "      <td>2.783323</td>\n",
       "      <td>2.986510</td>\n",
       "      <td>3.461732</td>\n",
       "      <td>4.012393</td>\n",
       "    </tr>\n",
       "    <tr>\n",
       "      <th>avg_gdpg</th>\n",
       "      <td>153.0</td>\n",
       "      <td>0.019207</td>\n",
       "      <td>0.023509</td>\n",
       "      <td>-0.086010</td>\n",
       "      <td>0.006022</td>\n",
       "      <td>0.020097</td>\n",
       "      <td>0.032300</td>\n",
       "      <td>0.076394</td>\n",
       "    </tr>\n",
       "  </tbody>\n",
       "</table>\n",
       "</div>"
      ],
      "text/plain": [
       "              count      mean       std       min       25%       50%  \\\n",
       "lgdp60        110.0  8.738803  0.976268  6.199032  8.018415  8.821419   \n",
       "lgdp85        153.0  9.316108  1.160448  6.482958  8.458778  9.364663   \n",
       "lgdpdiff      110.0  0.485893  0.449191 -0.474365  0.158150  0.443901   \n",
       "avg_popg      179.0  0.023337  0.015531 -0.006051  0.013918  0.023257   \n",
       "ls            153.0 -1.430703  0.585056 -2.957822 -1.782338 -1.319503   \n",
       "hc            128.0  1.728347  0.576408  1.010960  1.226156  1.594067   \n",
       "lschool       128.0  0.495602  0.318028  0.010900  0.203884  0.466289   \n",
       "lngd          179.0 -2.630969  0.184745 -3.124734 -2.750150 -2.613786   \n",
       "ls-lngd       152.0  1.186548  0.625744 -0.667419  0.709744  1.299714   \n",
       "lschool-lngd  128.0  3.109907  0.423503  2.310446  2.783323  2.986510   \n",
       "avg_gdpg      153.0  0.019207  0.023509 -0.086010  0.006022  0.020097   \n",
       "\n",
       "                    75%        max  \n",
       "lgdp60         9.426836  10.849015  \n",
       "lgdp85        10.145965  12.084602  \n",
       "lgdpdiff       0.759353   1.794624  \n",
       "avg_popg       0.029935   0.111053  \n",
       "ls            -1.048667  -0.169087  \n",
       "hc             2.095492   3.206118  \n",
       "lschool        0.739786   1.165061  \n",
       "lngd          -2.526547  -1.826021  \n",
       "ls-lngd        1.682802   2.530167  \n",
       "lschool-lngd   3.461732   4.012393  \n",
       "avg_gdpg       0.032300   0.076394  "
      ]
     },
     "execution_count": 45,
     "metadata": {},
     "output_type": "execute_result"
    }
   ],
   "source": [
    "desc_rep=rep_data.iloc[:,4:15].describe().T\n",
    "desc_rep"
   ]
  },
  {
   "cell_type": "code",
   "execution_count": 46,
   "metadata": {},
   "outputs": [
    {
     "data": {
      "text/html": [
       "<div>\n",
       "<style scoped>\n",
       "    .dataframe tbody tr th:only-of-type {\n",
       "        vertical-align: middle;\n",
       "    }\n",
       "\n",
       "    .dataframe tbody tr th {\n",
       "        vertical-align: top;\n",
       "    }\n",
       "\n",
       "    .dataframe thead th {\n",
       "        text-align: right;\n",
       "    }\n",
       "</style>\n",
       "<table border=\"1\" class=\"dataframe\">\n",
       "  <thead>\n",
       "    <tr style=\"text-align: right;\">\n",
       "      <th></th>\n",
       "      <th>count</th>\n",
       "      <th>mean</th>\n",
       "      <th>std</th>\n",
       "      <th>min</th>\n",
       "      <th>25%</th>\n",
       "      <th>50%</th>\n",
       "      <th>75%</th>\n",
       "      <th>max</th>\n",
       "    </tr>\n",
       "  </thead>\n",
       "  <tbody>\n",
       "    <tr>\n",
       "      <th>lgdp60</th>\n",
       "      <td>110.0</td>\n",
       "      <td>8.738803</td>\n",
       "      <td>0.976268</td>\n",
       "      <td>6.199032</td>\n",
       "      <td>8.018415</td>\n",
       "      <td>8.821419</td>\n",
       "      <td>9.426836</td>\n",
       "      <td>10.849015</td>\n",
       "    </tr>\n",
       "    <tr>\n",
       "      <th>lgdp19</th>\n",
       "      <td>180.0</td>\n",
       "      <td>9.875305</td>\n",
       "      <td>1.106038</td>\n",
       "      <td>5.889035</td>\n",
       "      <td>9.129662</td>\n",
       "      <td>9.913929</td>\n",
       "      <td>10.699803</td>\n",
       "      <td>11.896160</td>\n",
       "    </tr>\n",
       "    <tr>\n",
       "      <th>lgdpdiff</th>\n",
       "      <td>110.0</td>\n",
       "      <td>0.996155</td>\n",
       "      <td>0.758700</td>\n",
       "      <td>-0.946878</td>\n",
       "      <td>0.544735</td>\n",
       "      <td>0.998977</td>\n",
       "      <td>1.396110</td>\n",
       "      <td>2.981965</td>\n",
       "    </tr>\n",
       "    <tr>\n",
       "      <th>avg_popg</th>\n",
       "      <td>180.0</td>\n",
       "      <td>0.020751</td>\n",
       "      <td>0.013412</td>\n",
       "      <td>-0.002707</td>\n",
       "      <td>0.010430</td>\n",
       "      <td>0.022391</td>\n",
       "      <td>0.027782</td>\n",
       "      <td>0.086327</td>\n",
       "    </tr>\n",
       "    <tr>\n",
       "      <th>avg_tfpg</th>\n",
       "      <td>117.0</td>\n",
       "      <td>0.004174</td>\n",
       "      <td>0.013739</td>\n",
       "      <td>-0.042701</td>\n",
       "      <td>-0.001782</td>\n",
       "      <td>0.003585</td>\n",
       "      <td>0.009297</td>\n",
       "      <td>0.065329</td>\n",
       "    </tr>\n",
       "    <tr>\n",
       "      <th>avg_delta</th>\n",
       "      <td>177.0</td>\n",
       "      <td>0.042994</td>\n",
       "      <td>0.011109</td>\n",
       "      <td>0.017728</td>\n",
       "      <td>0.035891</td>\n",
       "      <td>0.041107</td>\n",
       "      <td>0.047637</td>\n",
       "      <td>0.091254</td>\n",
       "    </tr>\n",
       "    <tr>\n",
       "      <th>ls</th>\n",
       "      <td>177.0</td>\n",
       "      <td>-1.341856</td>\n",
       "      <td>0.423534</td>\n",
       "      <td>-2.648610</td>\n",
       "      <td>-1.580383</td>\n",
       "      <td>-1.303636</td>\n",
       "      <td>-1.044860</td>\n",
       "      <td>-0.320368</td>\n",
       "    </tr>\n",
       "    <tr>\n",
       "      <th>hc</th>\n",
       "      <td>144.0</td>\n",
       "      <td>2.163686</td>\n",
       "      <td>0.670741</td>\n",
       "      <td>1.070629</td>\n",
       "      <td>1.568042</td>\n",
       "      <td>2.084171</td>\n",
       "      <td>2.721853</td>\n",
       "      <td>3.532727</td>\n",
       "    </tr>\n",
       "    <tr>\n",
       "      <th>lschool</th>\n",
       "      <td>144.0</td>\n",
       "      <td>0.722175</td>\n",
       "      <td>0.320376</td>\n",
       "      <td>0.068247</td>\n",
       "      <td>0.449798</td>\n",
       "      <td>0.734354</td>\n",
       "      <td>1.001304</td>\n",
       "      <td>1.262070</td>\n",
       "    </tr>\n",
       "    <tr>\n",
       "      <th>lngd</th>\n",
       "      <td>117.0</td>\n",
       "      <td>-2.754142</td>\n",
       "      <td>0.246243</td>\n",
       "      <td>-3.323477</td>\n",
       "      <td>-2.923290</td>\n",
       "      <td>-2.708447</td>\n",
       "      <td>-2.606744</td>\n",
       "      <td>-2.147607</td>\n",
       "    </tr>\n",
       "    <tr>\n",
       "      <th>ls-lngd</th>\n",
       "      <td>117.0</td>\n",
       "      <td>1.430790</td>\n",
       "      <td>0.495095</td>\n",
       "      <td>0.168711</td>\n",
       "      <td>1.161705</td>\n",
       "      <td>1.474113</td>\n",
       "      <td>1.776177</td>\n",
       "      <td>2.780752</td>\n",
       "    </tr>\n",
       "    <tr>\n",
       "      <th>lschool-lngd</th>\n",
       "      <td>117.0</td>\n",
       "      <td>3.531451</td>\n",
       "      <td>0.452048</td>\n",
       "      <td>2.627934</td>\n",
       "      <td>3.132086</td>\n",
       "      <td>3.478345</td>\n",
       "      <td>3.963601</td>\n",
       "      <td>4.266316</td>\n",
       "    </tr>\n",
       "    <tr>\n",
       "      <th>avg_gdpg</th>\n",
       "      <td>180.0</td>\n",
       "      <td>0.017743</td>\n",
       "      <td>0.014855</td>\n",
       "      <td>-0.019635</td>\n",
       "      <td>0.009418</td>\n",
       "      <td>0.018651</td>\n",
       "      <td>0.025765</td>\n",
       "      <td>0.074067</td>\n",
       "    </tr>\n",
       "  </tbody>\n",
       "</table>\n",
       "</div>"
      ],
      "text/plain": [
       "              count      mean       std       min       25%       50%  \\\n",
       "lgdp60        110.0  8.738803  0.976268  6.199032  8.018415  8.821419   \n",
       "lgdp19        180.0  9.875305  1.106038  5.889035  9.129662  9.913929   \n",
       "lgdpdiff      110.0  0.996155  0.758700 -0.946878  0.544735  0.998977   \n",
       "avg_popg      180.0  0.020751  0.013412 -0.002707  0.010430  0.022391   \n",
       "avg_tfpg      117.0  0.004174  0.013739 -0.042701 -0.001782  0.003585   \n",
       "avg_delta     177.0  0.042994  0.011109  0.017728  0.035891  0.041107   \n",
       "ls            177.0 -1.341856  0.423534 -2.648610 -1.580383 -1.303636   \n",
       "hc            144.0  2.163686  0.670741  1.070629  1.568042  2.084171   \n",
       "lschool       144.0  0.722175  0.320376  0.068247  0.449798  0.734354   \n",
       "lngd          117.0 -2.754142  0.246243 -3.323477 -2.923290 -2.708447   \n",
       "ls-lngd       117.0  1.430790  0.495095  0.168711  1.161705  1.474113   \n",
       "lschool-lngd  117.0  3.531451  0.452048  2.627934  3.132086  3.478345   \n",
       "avg_gdpg      180.0  0.017743  0.014855 -0.019635  0.009418  0.018651   \n",
       "\n",
       "                    75%        max  \n",
       "lgdp60         9.426836  10.849015  \n",
       "lgdp19        10.699803  11.896160  \n",
       "lgdpdiff       1.396110   2.981965  \n",
       "avg_popg       0.027782   0.086327  \n",
       "avg_tfpg       0.009297   0.065329  \n",
       "avg_delta      0.047637   0.091254  \n",
       "ls            -1.044860  -0.320368  \n",
       "hc             2.721853   3.532727  \n",
       "lschool        1.001304   1.262070  \n",
       "lngd          -2.606744  -2.147607  \n",
       "ls-lngd        1.776177   2.780752  \n",
       "lschool-lngd   3.963601   4.266316  \n",
       "avg_gdpg       0.025765   0.074067  "
      ]
     },
     "execution_count": 46,
     "metadata": {},
     "output_type": "execute_result"
    }
   ],
   "source": [
    "desc_ext=ext_data.iloc[:,4:17].describe().T\n",
    "desc_ext"
   ]
  },
  {
   "cell_type": "markdown",
   "metadata": {},
   "source": [
    "## Part IV: Conclusion"
   ]
  },
  {
   "cell_type": "markdown",
   "metadata": {},
   "source": [
    "In summary, there are two main differences in this replication project from the orginal paper. One is the coefficient on `lngd` and the other is the implied $\\alpha$, $\\beta$. Actually, these two are related. My guess on possible reasons for this are:\n",
    "- As we saw in Table III and V, `lngd` flipped sign especially in the extension dataset, where I used a different way to construct `lngd`. In stead of assuming g+d=0.05, I applied the real data. This may cause the difference.\n",
    "- Since I used an alternative way to construct `ls`, the coefficient on it may vary and further affect the coefficient on `ls-lngd` as well as the implied $\\alpha$, $\\beta$. \n",
    "- There are some obseavations drop in both replication and extension dataset. This may also affect the results. However, I think this reason is less likely because the drop on observations is not serious."
   ]
  }
 ],
 "metadata": {
  "kernelspec": {
   "display_name": "Python 3 (ipykernel)",
   "language": "python",
   "name": "python3"
  },
  "language_info": {
   "codemirror_mode": {
    "name": "ipython",
    "version": 3
   },
   "file_extension": ".py",
   "mimetype": "text/x-python",
   "name": "python",
   "nbconvert_exporter": "python",
   "pygments_lexer": "ipython3",
   "version": "3.11.5"
  }
 },
 "nbformat": 4,
 "nbformat_minor": 2
}
