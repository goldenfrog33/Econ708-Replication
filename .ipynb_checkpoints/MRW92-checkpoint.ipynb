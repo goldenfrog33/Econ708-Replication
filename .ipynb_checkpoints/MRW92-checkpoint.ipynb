{
 "cells": [
  {
   "cell_type": "code",
   "execution_count": 1,
   "metadata": {},
   "outputs": [],
   "source": [
    "import pandas as pd\n",
    "import numpy as np"
   ]
  },
  {
   "cell_type": "markdown",
   "metadata": {},
   "source": [
    "## Read data"
   ]
  },
  {
   "cell_type": "code",
   "execution_count": 2,
   "metadata": {},
   "outputs": [],
   "source": [
    "#pull main data\n",
    "data = pd.read_excel('pwt1001.xlsx', sheet_name = 'Data')\n",
    "#keep data only after 1960\n",
    "data=data[data['year']>=1960]"
   ]
  },
  {
   "cell_type": "code",
   "execution_count": 3,
   "metadata": {},
   "outputs": [],
   "source": [
    "#pull working age pop\n",
    "workagepop=pd.read_csv('Working age pop.csv')\n",
    "workagepop.drop(columns=['Indicator Name','Indicator Code','Country Name'],inplace=True)\n",
    "workagepop=workagepop.melt(['Country Code'],var_name='year',value_name='wapop')\n",
    "workagepop.rename(columns={'Country Code':'countrycode'},inplace=True)\n",
    "workagepop['year']=workagepop['year'].astype(int)\n",
    "pri_data=pd.merge(data,workagepop,on=['countrycode','year'])"
   ]
  },
  {
   "cell_type": "code",
   "execution_count": 4,
   "metadata": {},
   "outputs": [],
   "source": [
    "#pull share of investment in gdp\n",
    "invest=pd.read_csv('capital of gdp.csv')\n",
    "invest.drop(columns=['Indicator Name','Indicator Code','Country Name'],inplace=True)\n",
    "invest=invest.melt(['Country Code'],var_name='year',value_name='i_y')\n",
    "invest.rename(columns={'Country Code':'countrycode'},inplace=True)\n",
    "invest['year']=invest['year'].astype(int)\n",
    "pri_data=pd.merge(pri_data,invest,on=['countrycode','year'])"
   ]
  },
  {
   "cell_type": "markdown",
   "metadata": {},
   "source": [
    "## Variable of interest priliminary setting"
   ]
  },
  {
   "cell_type": "code",
   "execution_count": 5,
   "metadata": {},
   "outputs": [],
   "source": [
    "#dependent variable: real gdp per working-age person\n",
    "pri_data['rgdpwap']=(pri_data['rgdpna']*10**6)/(pri_data['wapop'])\n",
    "\n",
    "#independent variable component: TFPG\n",
    "pri_data['tfpg'] = pri_data.groupby('countrycode').rtfpna.pct_change()\n",
    "\n",
    "#independent variable component: growth of th working-age population\n",
    "pri_data['popg'] = pri_data.groupby('countrycode').wapop.pct_change()"
   ]
  },
  {
   "cell_type": "markdown",
   "metadata": {},
   "source": [
    "## Make dataset for replication"
   ]
  },
  {
   "cell_type": "code",
   "execution_count": 6,
   "metadata": {},
   "outputs": [],
   "source": [
    "#year 1960-1985\n",
    "pri_data_1=pri_data[pri_data['year']<=1985]\n",
    "#construct a new datafrmame containing vairables for regression\n",
    "rep_data=pd.DataFrame({'countrycode':pri_data_1['countrycode'].unique()})"
   ]
  },
  {
   "cell_type": "code",
   "execution_count": 7,
   "metadata": {},
   "outputs": [],
   "source": [
    "#Add sample indicators\n",
    "non_oil=['DZA', 'AGO', 'BEN', 'BWA', 'BFA', 'BDI', 'CMR', 'CAF', 'TCD', 'COG', 'EGY', 'ETH', 'GHA', 'CIV', 'KEN', 'LBR', 'MDG', 'MWI', 'MLI', 'MRT', 'MUS', 'MAR', 'MOZ', 'NER', 'NGA', 'RWA', 'SEN', 'SLE', 'SOM', 'ZAF', 'SDN', 'TZA', 'TGO', 'TUN', 'UGA', 'COD', 'ZMB', 'ZWE', 'BGD', 'MMR', 'HKG', 'IND', 'ISR', 'JPN', 'JOR', 'KOR', 'MYS', 'NPL', 'PAK', 'PHL', 'SGP', 'LKA', 'SYR', 'THA', 'AUT', 'BEL', 'DNK', 'FIN', 'FRA', 'DEU', 'GRC', 'IRL', 'ITA', 'NLD', 'NOR', 'PRT', 'ESP', 'SWE', 'CHE', 'TUR', 'GBR', 'CAN', 'CRI', 'DOM', 'SLV', 'GTM', 'HTI', 'HND', 'JAM', 'MEX', 'NIC', 'PAN', 'TTO', 'USA', 'ARG', 'BOL', 'BRA', 'CHL', 'COL', 'ECU', 'PRY', 'PER', 'URY', 'VEN', 'AUS', 'IDN', 'NZL', 'PNG']\n",
    "intermediate=['DZA', 'BWA', 'CMR', 'ETH', 'CIV', 'KEN', 'MDG', 'MWI', 'MLI', 'MAR', 'NGA', 'SEN', 'ZAF', 'TZA', 'TUN', 'ZMB', 'ZWE', 'BGD', 'MMR', 'HKG', 'IND', 'ISR', 'JPN', 'JOR', 'KOR', 'MYS', 'PAK', 'PHL', 'SGP', 'LKA', 'SYR', 'THA', 'AUT', 'BEL', 'DNK', 'FIN', 'FRA', 'DEU', 'GRC', 'IRL', 'ITA', 'NLD', 'NOR', 'PRT', 'ESP', 'SWE', 'CHE', 'TUR', 'GBR', 'CAN', 'CRI', 'DOM', 'SLV', 'GTM', 'HTI', 'HND', 'JAM', 'MEX', 'NIC', 'PAN', 'TTO', 'USA', 'ARG', 'BOL', 'BRA', 'CHL', 'COL', 'ECU', 'PRY', 'PER', 'URY', 'VEN', 'AUS', 'IDN', 'NZL']\n",
    "#there is a difference in oecd countries now, but I use the same list as the authors'\n",
    "oecd=['JPN', 'AUT', 'BEL', 'DNK', 'FIN', 'FRA', 'DEU', 'GRC', 'IRL', 'ITA', 'NLD', 'NOR', 'PRT', 'ESP', 'SWE', 'CHE', 'TUR', 'GBR', 'CAN', 'USA', 'AUS', 'NZL']\n",
    "\n",
    "rep_data['n']=(rep_data['countrycode'].isin(non_oil)).astype(int)\n",
    "rep_data['i']=(rep_data['countrycode'].isin(intermediate)).astype(int)\n",
    "rep_data['o']=(rep_data['countrycode'].isin(oecd)).astype(int)"
   ]
  },
  {
   "cell_type": "markdown",
   "metadata": {},
   "source": [
    "### Dependent variables"
   ]
  },
  {
   "cell_type": "code",
   "execution_count": 8,
   "metadata": {},
   "outputs": [],
   "source": [
    "#log gdp per working-age person 1960\n",
    "rep_data=pd.merge(rep_data,pri_data_1[pri_data_1['year']==1960][['countrycode','rgdpwap']],on='countrycode')\n",
    "rep_data['lgdp60']=np.log(rep_data['rgdpwap'])\n",
    "rep_data.drop('rgdpwap',axis=1,inplace=True)\n",
    "\n",
    "#log gdp per working-age person 1985\n",
    "rep_data=pd.merge(rep_data,pri_data_1[pri_data_1['year']==1985][['countrycode','rgdpwap']],on='countrycode')\n",
    "rep_data['lgdp85']=np.log(rep_data['rgdpwap'])\n",
    "rep_data.drop('rgdpwap',axis=1,inplace=True)\n",
    "\n",
    "#log difference gdp per working-age person 1960-1985\n",
    "rep_data['lgdpdiff']=rep_data['lgdp85']-rep_data['lgdp60']"
   ]
  },
  {
   "cell_type": "markdown",
   "metadata": {},
   "source": [
    "### Independent variables"
   ]
  },
  {
   "cell_type": "code",
   "execution_count": 9,
   "metadata": {},
   "outputs": [
    {
     "name": "stderr",
     "output_type": "stream",
     "text": [
      "/Applications/anaconda3/lib/python3.11/site-packages/pandas/core/arraylike.py:396: RuntimeWarning: divide by zero encountered in log\n",
      "  result = getattr(ufunc, method)(*inputs, **kwargs)\n"
     ]
    }
   ],
   "source": [
    "#average working-age populaiton growth\n",
    "pop=pri_data_1.groupby('countrycode')['popg'].mean().to_frame().reset_index()\n",
    "rep_data=pd.merge(rep_data,pop,on='countrycode').rename(columns={'popg':'avg_popg'})\n",
    "\n",
    "#average average share of investment in gdp and take log\n",
    "s=pri_data_1.groupby('countrycode')['i_y'].mean().to_frame().reset_index()\n",
    "rep_data=pd.merge(rep_data,s,on='countrycode')\n",
    "rep_data['ls']=np.log(rep_data['i_y'])\n",
    "rep_data.drop('i_y',axis=1,inplace=True)\n",
    "\n",
    "#average human capital index\n",
    "hc=pri_data_1.groupby('countrycode')['hc'].mean().to_frame().reset_index()\n",
    "rep_data=pd.merge(rep_data,hc,on='countrycode')\n",
    "rep_data['lschool']=np.log(rep_data['hc'])\n",
    "\n",
    "#construct log(n+g+delta) \n",
    "#here I use the assumption by the authors' \"g+delta=0.05\"\n",
    "rep_data['lgnd']=np.log(rep_data['avg_popg']+0.05)"
   ]
  },
  {
   "cell_type": "markdown",
   "metadata": {},
   "source": [
    "## Make dataset for extension"
   ]
  },
  {
   "cell_type": "code",
   "execution_count": 27,
   "metadata": {},
   "outputs": [],
   "source": [
    "ext_data=pd.DataFrame({'countrycode':pri_data['countrycode'].unique()})"
   ]
  },
  {
   "cell_type": "code",
   "execution_count": 28,
   "metadata": {},
   "outputs": [],
   "source": [
    "#Add sample indicators\n",
    "ext_data['n']=(ext_data['countrycode'].isin(non_oil)).astype(int)\n",
    "ext_data['i']=(ext_data['countrycode'].isin(intermediate)).astype(int)\n",
    "ext_data['o']=(ext_data['countrycode'].isin(oecd)).astype(int)"
   ]
  },
  {
   "cell_type": "markdown",
   "metadata": {},
   "source": [
    "### Dependent variables"
   ]
  },
  {
   "cell_type": "code",
   "execution_count": 29,
   "metadata": {},
   "outputs": [],
   "source": [
    "#log gdp per working-age person 1960\n",
    "ext_data=pd.merge(ext_data,pri_data[pri_data['year']==1960][['countrycode','rgdpwap']],on='countrycode')\n",
    "ext_data['lgdp60']=np.log(ext_data['rgdpwap'])\n",
    "ext_data.drop('rgdpwap',axis=1,inplace=True)\n",
    "\n",
    "#log gdp per working-age person 1985\n",
    "ext_data=pd.merge(ext_data,pri_data[pri_data['year']==1985][['countrycode','rgdpwap']],on='countrycode')\n",
    "ext_data['lgdp85']=np.log(ext_data['rgdpwap'])\n",
    "ext_data.drop('rgdpwap',axis=1,inplace=True)\n",
    "\n",
    "#log difference gdp per working-age person 1960-1985\n",
    "ext_data['lgdpdiff']=ext_data['lgdp85']-ext_data['lgdp60']"
   ]
  },
  {
   "cell_type": "markdown",
   "metadata": {},
   "source": [
    "### Independent variables"
   ]
  },
  {
   "cell_type": "code",
   "execution_count": 31,
   "metadata": {},
   "outputs": [],
   "source": [
    "#average working-age populaiton growth\n",
    "pop=pri_data.groupby('countrycode')['popg'].mean().to_frame().reset_index()\n",
    "ext_data=pd.merge(ext_data,pop,on='countrycode').rename(columns={'popg':'avg_popg'})\n",
    "\n",
    "#average tfpg\n",
    "tfpg=pri_data.groupby('countrycode')['tfpg'].mean().to_frame().reset_index()\n",
    "ext_data=pd.merge(ext_data,tfpg,on='countrycode').rename(columns={'tfpg':'avg_tfpg'})\n",
    "\n",
    "#average depreciation rate\n",
    "delta=pri_data.groupby('countrycode')['delta'].mean().to_frame().reset_index()\n",
    "ext_data=pd.merge(ext_data,delta,on='countrycode').rename(columns={'delta':'avg_delta'})\n",
    "\n",
    "#average average share of investment in gdp and take log\n",
    "s=pri_data.groupby('countrycode')['i_y'].mean().to_frame().reset_index()\n",
    "ext_data=pd.merge(ext_data,s,on='countrycode')\n",
    "ext_data['ls']=np.log(ext_data['i_y'])\n",
    "ext_data.drop('i_y',axis=1,inplace=True)\n",
    "\n",
    "#average human capital index\n",
    "hc=pri_data.groupby('countrycode')['hc'].mean().to_frame().reset_index()\n",
    "ext_data=pd.merge(ext_data,hc,on='countrycode')\n",
    "ext_data['lschool']=np.log(ext_data['hc'])\n",
    "\n",
    "#construct log(n+g+delta) \n",
    "ext_data['lgnd']=np.log(ext_data['avg_popg']+ext_data['avg_tfpg']+ext_data['avg_delta'])"
   ]
  },
  {
   "cell_type": "code",
   "execution_count": 35,
   "metadata": {},
   "outputs": [
    {
     "data": {
      "text/plain": [
       "0.04658899269165173"
      ]
     },
     "execution_count": 35,
     "metadata": {},
     "output_type": "execute_result"
    }
   ],
   "source": [
    "(ext_data['avg_tfpg']+ext_data['avg_delta']).mean()"
   ]
  },
  {
   "cell_type": "markdown",
   "metadata": {},
   "source": []
  }
 ],
 "metadata": {
  "kernelspec": {
   "display_name": "Python 3 (ipykernel)",
   "language": "python",
   "name": "python3"
  },
  "language_info": {
   "codemirror_mode": {
    "name": "ipython",
    "version": 3
   },
   "file_extension": ".py",
   "mimetype": "text/x-python",
   "name": "python",
   "nbconvert_exporter": "python",
   "pygments_lexer": "ipython3",
   "version": "3.9.12"
  }
 },
 "nbformat": 4,
 "nbformat_minor": 2
}
